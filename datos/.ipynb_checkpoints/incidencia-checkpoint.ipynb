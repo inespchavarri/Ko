{
 "cells": [
  {
   "cell_type": "markdown",
   "metadata": {},
   "source": [
    "# Extracción de las cifras relativas a los casos e incidencia de Covid-19 en Euskadi"
   ]
  },
  {
   "cell_type": "markdown",
   "metadata": {},
   "source": [
    "Para la obtención de estos datos utilizo los documentos 02.csv y 04.csv de la carpeta situacion-epidemiológica. Estos datos, al igual que el resto de utilizados en este proyecto, se pueden obtener en la web https://opendata.euskadi.eus/inicio/"
   ]
  },
  {
   "cell_type": "markdown",
   "metadata": {},
   "source": [
    "### 1.- Importación de las librerias necesarias para la limpieza de los datos"
   ]
  },
  {
   "cell_type": "code",
   "execution_count": 67,
   "metadata": {},
   "outputs": [],
   "source": [
    "import pandas as pd\n",
    "import numpy as np\n",
    "import pickle\n",
    "from datetime import datetime, date"
   ]
  },
  {
   "cell_type": "markdown",
   "metadata": {},
   "source": [
    "### 2.- Limpieza datos"
   ]
  },
  {
   "cell_type": "markdown",
   "metadata": {},
   "source": [
    "Antes de importar el documento, elimino la primera fila del encabezamiento del csv en un editor. Es una línea con una breve descripción de los datos que incluye el documento, pero innecesaria para su limpieza. Además, así Pandas reconoce automáticamente el nombre de las columnas."
   ]
  },
  {
   "cell_type": "code",
   "execution_count": 3,
   "metadata": {},
   "outputs": [],
   "source": [
    "incidencia = pd.read_csv(\"situacion-epidemiologica/02.csv\", sep=\";\", encoding=\"latin-1\")"
   ]
  },
  {
   "cell_type": "markdown",
   "metadata": {},
   "source": [
    "Visualización de los datos importados"
   ]
  },
  {
   "cell_type": "code",
   "execution_count": 4,
   "metadata": {},
   "outputs": [
    {
     "data": {
      "text/html": [
       "<div>\n",
       "<style scoped>\n",
       "    .dataframe tbody tr th:only-of-type {\n",
       "        vertical-align: middle;\n",
       "    }\n",
       "\n",
       "    .dataframe tbody tr th {\n",
       "        vertical-align: top;\n",
       "    }\n",
       "\n",
       "    .dataframe thead th {\n",
       "        text-align: right;\n",
       "    }\n",
       "</style>\n",
       "<table border=\"1\" class=\"dataframe\">\n",
       "  <thead>\n",
       "    <tr style=\"text-align: right;\">\n",
       "      <th></th>\n",
       "      <th>Data / Fecha</th>\n",
       "      <th>Kasuak / Casos</th>\n",
       "      <th>Euskadi: 14 eguneko 100.000 biztanleko intzidentzia metatua (PCR testak) / Euskadi: Incidencia acumulada 14 dï¿½as x 100.000 habitantes (test PCRs)</th>\n",
       "      <th>Araba: 14 eguneko 100.000 biztanleko intzidentzia metatua (PCR testak) /ï¿½lava: Incidencia acumulada 14 dï¿½as x 100.000 habitantes (test PCRs)</th>\n",
       "      <th>Bizkaia: 14 eguneko 100.000 biztanleko intzidentzia metatua (PCR testak) /Bizkaia: Incidencia acumulada 14 dï¿½as x 100.000 habitantes (test PCRs)</th>\n",
       "      <th>Gipuzkoa: 14 eguneko 100.000 biztanleko intzidentzia metatua (PCR testak) /Gipuzkoa: Incidencia acumulada 14 dï¿½as x 100.000 habitantes (test PCRs)</th>\n",
       "      <th>Unnamed: 6</th>\n",
       "      <th>Unnamed: 7</th>\n",
       "    </tr>\n",
       "  </thead>\n",
       "  <tbody>\n",
       "    <tr>\n",
       "      <th>0</th>\n",
       "      <td>2020/03/01</td>\n",
       "      <td>1</td>\n",
       "      <td>0,05</td>\n",
       "      <td>0,00</td>\n",
       "      <td>0,00</td>\n",
       "      <td>0,00</td>\n",
       "      <td>NaN</td>\n",
       "      <td>NaN</td>\n",
       "    </tr>\n",
       "    <tr>\n",
       "      <th>1</th>\n",
       "      <td>2020/03/02</td>\n",
       "      <td>3</td>\n",
       "      <td>0,18</td>\n",
       "      <td>0,00</td>\n",
       "      <td>0,00</td>\n",
       "      <td>0,00</td>\n",
       "      <td>NaN</td>\n",
       "      <td>NaN</td>\n",
       "    </tr>\n",
       "    <tr>\n",
       "      <th>2</th>\n",
       "      <td>2020/03/03</td>\n",
       "      <td>4</td>\n",
       "      <td>0,37</td>\n",
       "      <td>0,00</td>\n",
       "      <td>0,00</td>\n",
       "      <td>0,00</td>\n",
       "      <td>NaN</td>\n",
       "      <td>NaN</td>\n",
       "    </tr>\n",
       "    <tr>\n",
       "      <th>3</th>\n",
       "      <td>2020/03/04</td>\n",
       "      <td>4</td>\n",
       "      <td>0,55</td>\n",
       "      <td>0,00</td>\n",
       "      <td>0,00</td>\n",
       "      <td>0,00</td>\n",
       "      <td>NaN</td>\n",
       "      <td>NaN</td>\n",
       "    </tr>\n",
       "    <tr>\n",
       "      <th>4</th>\n",
       "      <td>2020/03/05</td>\n",
       "      <td>19</td>\n",
       "      <td>1,42</td>\n",
       "      <td>0,00</td>\n",
       "      <td>0,00</td>\n",
       "      <td>0,00</td>\n",
       "      <td>NaN</td>\n",
       "      <td>NaN</td>\n",
       "    </tr>\n",
       "  </tbody>\n",
       "</table>\n",
       "</div>"
      ],
      "text/plain": [
       "  Data / Fecha Kasuak / Casos  \\\n",
       "0   2020/03/01              1   \n",
       "1   2020/03/02              3   \n",
       "2   2020/03/03              4   \n",
       "3   2020/03/04              4   \n",
       "4   2020/03/05             19   \n",
       "\n",
       "  Euskadi: 14 eguneko 100.000 biztanleko intzidentzia metatua (PCR testak) / Euskadi: Incidencia acumulada 14 dï¿½as x 100.000 habitantes (test PCRs)   \\\n",
       "0                                               0,05                                                                                                     \n",
       "1                                               0,18                                                                                                     \n",
       "2                                               0,37                                                                                                     \n",
       "3                                               0,55                                                                                                     \n",
       "4                                               1,42                                                                                                     \n",
       "\n",
       "  Araba: 14 eguneko 100.000 biztanleko intzidentzia metatua (PCR testak) /ï¿½lava: Incidencia acumulada 14 dï¿½as x 100.000 habitantes (test PCRs)   \\\n",
       "0                                               0,00                                                                                                  \n",
       "1                                               0,00                                                                                                  \n",
       "2                                               0,00                                                                                                  \n",
       "3                                               0,00                                                                                                  \n",
       "4                                               0,00                                                                                                  \n",
       "\n",
       "  Bizkaia: 14 eguneko 100.000 biztanleko intzidentzia metatua (PCR testak) /Bizkaia: Incidencia acumulada 14 dï¿½as x 100.000 habitantes (test PCRs)   \\\n",
       "0                                               0,00                                                                                                    \n",
       "1                                               0,00                                                                                                    \n",
       "2                                               0,00                                                                                                    \n",
       "3                                               0,00                                                                                                    \n",
       "4                                               0,00                                                                                                    \n",
       "\n",
       "  Gipuzkoa: 14 eguneko 100.000 biztanleko intzidentzia metatua (PCR testak) /Gipuzkoa: Incidencia acumulada 14 dï¿½as x 100.000 habitantes (test PCRs)   \\\n",
       "0                                               0,00                                                                                                      \n",
       "1                                               0,00                                                                                                      \n",
       "2                                               0,00                                                                                                      \n",
       "3                                               0,00                                                                                                      \n",
       "4                                               0,00                                                                                                      \n",
       "\n",
       "   Unnamed: 6  Unnamed: 7  \n",
       "0         NaN         NaN  \n",
       "1         NaN         NaN  \n",
       "2         NaN         NaN  \n",
       "3         NaN         NaN  \n",
       "4         NaN         NaN  "
      ]
     },
     "execution_count": 4,
     "metadata": {},
     "output_type": "execute_result"
    }
   ],
   "source": [
    "incidencia.head()"
   ]
  },
  {
   "cell_type": "markdown",
   "metadata": {},
   "source": [
    "Tras visualizar los datos importados y para facilitar el análisis de los mismos doy los siguientes pasos:"
   ]
  },
  {
   "cell_type": "markdown",
   "metadata": {},
   "source": [
    "2.1.- Eliminación de las dos últimas columnas"
   ]
  },
  {
   "cell_type": "code",
   "execution_count": 5,
   "metadata": {},
   "outputs": [
    {
     "data": {
      "text/plain": [
       "Index(['Data / Fecha', 'Kasuak / Casos',\n",
       "       'Euskadi: 14 eguneko 100.000 biztanleko intzidentzia metatua (PCR testak) / Euskadi: Incidencia acumulada 14 dï¿½as x 100.000 habitantes (test PCRs) ',\n",
       "       'Araba: 14 eguneko 100.000 biztanleko intzidentzia metatua (PCR testak) /ï¿½lava: Incidencia acumulada 14 dï¿½as x 100.000 habitantes (test PCRs) ',\n",
       "       'Bizkaia: 14 eguneko 100.000 biztanleko intzidentzia metatua (PCR testak) /Bizkaia: Incidencia acumulada 14 dï¿½as x 100.000 habitantes (test PCRs) ',\n",
       "       'Gipuzkoa: 14 eguneko 100.000 biztanleko intzidentzia metatua (PCR testak) /Gipuzkoa: Incidencia acumulada 14 dï¿½as x 100.000 habitantes (test PCRs) ',\n",
       "       'Unnamed: 6', 'Unnamed: 7'],\n",
       "      dtype='object')"
      ]
     },
     "execution_count": 5,
     "metadata": {},
     "output_type": "execute_result"
    }
   ],
   "source": [
    "incidencia.columns"
   ]
  },
  {
   "cell_type": "code",
   "execution_count": 6,
   "metadata": {},
   "outputs": [],
   "source": [
    "incidencia.drop([\"Unnamed: 6\", \"Unnamed: 7\"], axis=\"columns\", inplace=True)"
   ]
  },
  {
   "cell_type": "markdown",
   "metadata": {},
   "source": [
    "2.2.- Cambio del nombre de las columnas para su simplificación"
   ]
  },
  {
   "cell_type": "code",
   "execution_count": 7,
   "metadata": {},
   "outputs": [],
   "source": [
    "columnas = [\"Fecha\", \"Casos\", \"Incidencia Euskadi\", \"Incidencia Araba\", \"Incidencia Bizkaia\", \"Incidencia Gipuzkoa\"]"
   ]
  },
  {
   "cell_type": "code",
   "execution_count": 8,
   "metadata": {},
   "outputs": [],
   "source": [
    "incidencia.columns = columnas"
   ]
  },
  {
   "cell_type": "markdown",
   "metadata": {},
   "source": [
    "2.3.- En los números con decimales, sustitución de las comas por los puntos para que Python los reconozca como tal"
   ]
  },
  {
   "cell_type": "code",
   "execution_count": 9,
   "metadata": {},
   "outputs": [],
   "source": [
    "def remove_comas(string):\n",
    "    \n",
    "    \"\"\"Función para sustituir las comas por los puntos\"\"\"\n",
    "    \n",
    "    string = string.replace(\",\", \".\")\n",
    "    return string"
   ]
  },
  {
   "cell_type": "code",
   "execution_count": 10,
   "metadata": {},
   "outputs": [],
   "source": [
    "incidencia[\"Casos\"] = incidencia[\"Casos\"].apply(lambda x: remove_comas(x))\n",
    "incidencia[\"Incidencia Euskadi\"] = incidencia[\"Incidencia Euskadi\"].apply(lambda x: remove_comas(x))\n",
    "incidencia[\"Incidencia Araba\"] = incidencia[\"Incidencia Araba\"].apply(lambda x: remove_comas(x))\n",
    "incidencia[\"Incidencia Bizkaia\"] = incidencia[\"Incidencia Bizkaia\"].apply(lambda x: remove_comas(x))\n",
    "incidencia[\"Incidencia Gipuzkoa\"] = incidencia[\"Incidencia Gipuzkoa\"].apply(lambda x: remove_comas(x))"
   ]
  },
  {
   "cell_type": "markdown",
   "metadata": {},
   "source": [
    "2.4.- Conversión de las cifras a decimales y enteros"
   ]
  },
  {
   "cell_type": "code",
   "execution_count": 11,
   "metadata": {},
   "outputs": [
    {
     "data": {
      "text/plain": [
       "Fecha                  object\n",
       "Casos                  object\n",
       "Incidencia Euskadi     object\n",
       "Incidencia Araba       object\n",
       "Incidencia Bizkaia     object\n",
       "Incidencia Gipuzkoa    object\n",
       "dtype: object"
      ]
     },
     "execution_count": 11,
     "metadata": {},
     "output_type": "execute_result"
    }
   ],
   "source": [
    "incidencia.dtypes"
   ]
  },
  {
   "cell_type": "code",
   "execution_count": 12,
   "metadata": {},
   "outputs": [],
   "source": [
    "incidencia[\"Casos\"] = incidencia[\"Casos\"].astype(float).astype(int)\n",
    "incidencia[\"Incidencia Euskadi\"] = incidencia[\"Incidencia Euskadi\"].astype(float)\n",
    "incidencia[\"Incidencia Araba\"] = incidencia[\"Incidencia Araba\"].astype(float)\n",
    "incidencia[\"Incidencia Bizkaia\"] = incidencia[\"Incidencia Bizkaia\"].astype(float)\n",
    "incidencia[\"Incidencia Gipuzkoa\"] = incidencia[\"Incidencia Gipuzkoa\"].astype(float)"
   ]
  },
  {
   "cell_type": "markdown",
   "metadata": {},
   "source": [
    "2.5.- Cambio del formato de las fechas para que Python las reconozca como tal"
   ]
  },
  {
   "cell_type": "code",
   "execution_count": 15,
   "metadata": {},
   "outputs": [],
   "source": [
    "def convert_date(string):\n",
    "    \n",
    "    \"\"\"Función para el cambio de formato de las fechas\"\"\"\n",
    "    \n",
    "    elements = string.split(\"/\")\n",
    "    result = \"/\".join([str(elements[2]), str(elements[1]), \"20\"])\n",
    "    correct_date = datetime.strptime(result, \"%d/%m/%y\")\n",
    "    return correct_date"
   ]
  },
  {
   "cell_type": "code",
   "execution_count": 16,
   "metadata": {},
   "outputs": [],
   "source": [
    "incidencia[\"Fecha\"] = incidencia[\"Fecha\"].apply(lambda x: convert_date(x))"
   ]
  },
  {
   "cell_type": "markdown",
   "metadata": {},
   "source": [
    "Al igual que con el anterior csv, antes de importar el documento, elimino la primera fila del encabezamiento del csv en un editor. Es una línea con una breve descripción de los datos que incluye el documento, pero innecesaria para su limpieza. Además, así Pandas reconoce automáticamente el nombre de las columnas."
   ]
  },
  {
   "cell_type": "code",
   "execution_count": 18,
   "metadata": {},
   "outputs": [],
   "source": [
    "casos = pd.read_csv(\"situacion-epidemiologica/04.csv\", sep=\";\", encoding=\"latin-1\")"
   ]
  },
  {
   "cell_type": "code",
   "execution_count": 19,
   "metadata": {},
   "outputs": [
    {
     "data": {
      "text/html": [
       "<div>\n",
       "<style scoped>\n",
       "    .dataframe tbody tr th:only-of-type {\n",
       "        vertical-align: middle;\n",
       "    }\n",
       "\n",
       "    .dataframe tbody tr th {\n",
       "        vertical-align: top;\n",
       "    }\n",
       "\n",
       "    .dataframe thead th {\n",
       "        text-align: right;\n",
       "    }\n",
       "</style>\n",
       "<table border=\"1\" class=\"dataframe\">\n",
       "  <thead>\n",
       "    <tr style=\"text-align: right;\">\n",
       "      <th></th>\n",
       "      <th>UDALERRIA / MUNICIPIO</th>\n",
       "      <th>13/05</th>\n",
       "      <th>14/05</th>\n",
       "      <th>15/05</th>\n",
       "      <th>16/05</th>\n",
       "      <th>17/05</th>\n",
       "      <th>18/05</th>\n",
       "      <th>19/05</th>\n",
       "      <th>20/05</th>\n",
       "      <th>21/05</th>\n",
       "      <th>...</th>\n",
       "      <th>09/11</th>\n",
       "      <th>10/11</th>\n",
       "      <th>11/11</th>\n",
       "      <th>12/11</th>\n",
       "      <th>13/11</th>\n",
       "      <th>14/11</th>\n",
       "      <th>15/11</th>\n",
       "      <th>16/11</th>\n",
       "      <th>17/11</th>\n",
       "      <th>Unnamed: 189</th>\n",
       "    </tr>\n",
       "  </thead>\n",
       "  <tbody>\n",
       "    <tr>\n",
       "      <th>0</th>\n",
       "      <td>Agurain/Salvatierra</td>\n",
       "      <td>1.0</td>\n",
       "      <td>0.0</td>\n",
       "      <td>0.0</td>\n",
       "      <td>0.0</td>\n",
       "      <td>0.0</td>\n",
       "      <td>0.0</td>\n",
       "      <td>1.0</td>\n",
       "      <td>0.0</td>\n",
       "      <td>1.0</td>\n",
       "      <td>...</td>\n",
       "      <td>4</td>\n",
       "      <td>1</td>\n",
       "      <td>4</td>\n",
       "      <td>0</td>\n",
       "      <td>0</td>\n",
       "      <td>1</td>\n",
       "      <td>0</td>\n",
       "      <td>1</td>\n",
       "      <td>3</td>\n",
       "      <td>NaN</td>\n",
       "    </tr>\n",
       "    <tr>\n",
       "      <th>1</th>\n",
       "      <td>Alegrï¿½a-Dulantzi</td>\n",
       "      <td>0.0</td>\n",
       "      <td>1.0</td>\n",
       "      <td>0.0</td>\n",
       "      <td>0.0</td>\n",
       "      <td>0.0</td>\n",
       "      <td>0.0</td>\n",
       "      <td>0.0</td>\n",
       "      <td>0.0</td>\n",
       "      <td>0.0</td>\n",
       "      <td>...</td>\n",
       "      <td>4</td>\n",
       "      <td>0</td>\n",
       "      <td>4</td>\n",
       "      <td>1</td>\n",
       "      <td>3</td>\n",
       "      <td>4</td>\n",
       "      <td>2</td>\n",
       "      <td>1</td>\n",
       "      <td>3</td>\n",
       "      <td>NaN</td>\n",
       "    </tr>\n",
       "    <tr>\n",
       "      <th>2</th>\n",
       "      <td>Amurrio</td>\n",
       "      <td>0.0</td>\n",
       "      <td>0.0</td>\n",
       "      <td>0.0</td>\n",
       "      <td>0.0</td>\n",
       "      <td>0.0</td>\n",
       "      <td>0.0</td>\n",
       "      <td>0.0</td>\n",
       "      <td>0.0</td>\n",
       "      <td>0.0</td>\n",
       "      <td>...</td>\n",
       "      <td>1</td>\n",
       "      <td>3</td>\n",
       "      <td>2</td>\n",
       "      <td>2</td>\n",
       "      <td>7</td>\n",
       "      <td>0</td>\n",
       "      <td>1</td>\n",
       "      <td>4</td>\n",
       "      <td>3</td>\n",
       "      <td>NaN</td>\n",
       "    </tr>\n",
       "    <tr>\n",
       "      <th>3</th>\n",
       "      <td>Aï¿½ana</td>\n",
       "      <td>NaN</td>\n",
       "      <td>NaN</td>\n",
       "      <td>NaN</td>\n",
       "      <td>NaN</td>\n",
       "      <td>NaN</td>\n",
       "      <td>NaN</td>\n",
       "      <td>NaN</td>\n",
       "      <td>NaN</td>\n",
       "      <td>NaN</td>\n",
       "      <td>...</td>\n",
       "      <td>0</td>\n",
       "      <td>0</td>\n",
       "      <td>0</td>\n",
       "      <td>0</td>\n",
       "      <td>0</td>\n",
       "      <td>0</td>\n",
       "      <td>0</td>\n",
       "      <td>0</td>\n",
       "      <td>0</td>\n",
       "      <td>NaN</td>\n",
       "    </tr>\n",
       "    <tr>\n",
       "      <th>4</th>\n",
       "      <td>Aramaio</td>\n",
       "      <td>0.0</td>\n",
       "      <td>0.0</td>\n",
       "      <td>0.0</td>\n",
       "      <td>0.0</td>\n",
       "      <td>0.0</td>\n",
       "      <td>0.0</td>\n",
       "      <td>0.0</td>\n",
       "      <td>0.0</td>\n",
       "      <td>0.0</td>\n",
       "      <td>...</td>\n",
       "      <td>0</td>\n",
       "      <td>0</td>\n",
       "      <td>2</td>\n",
       "      <td>1</td>\n",
       "      <td>0</td>\n",
       "      <td>2</td>\n",
       "      <td>2</td>\n",
       "      <td>1</td>\n",
       "      <td>1</td>\n",
       "      <td>NaN</td>\n",
       "    </tr>\n",
       "  </tbody>\n",
       "</table>\n",
       "<p>5 rows × 190 columns</p>\n",
       "</div>"
      ],
      "text/plain": [
       "  UDALERRIA / MUNICIPIO  13/05  14/05  15/05  16/05  17/05  18/05  19/05  \\\n",
       "0   Agurain/Salvatierra    1.0    0.0    0.0    0.0    0.0    0.0    1.0   \n",
       "1    Alegrï¿½a-Dulantzi    0.0    1.0    0.0    0.0    0.0    0.0    0.0   \n",
       "2               Amurrio    0.0    0.0    0.0    0.0    0.0    0.0    0.0   \n",
       "3               Aï¿½ana    NaN    NaN    NaN    NaN    NaN    NaN    NaN   \n",
       "4               Aramaio    0.0    0.0    0.0    0.0    0.0    0.0    0.0   \n",
       "\n",
       "   20/05  21/05  ...  09/11  10/11  11/11  12/11  13/11  14/11  15/11  16/11  \\\n",
       "0    0.0    1.0  ...      4      1      4      0      0      1      0      1   \n",
       "1    0.0    0.0  ...      4      0      4      1      3      4      2      1   \n",
       "2    0.0    0.0  ...      1      3      2      2      7      0      1      4   \n",
       "3    NaN    NaN  ...      0      0      0      0      0      0      0      0   \n",
       "4    0.0    0.0  ...      0      0      2      1      0      2      2      1   \n",
       "\n",
       "   17/11  Unnamed: 189  \n",
       "0      3           NaN  \n",
       "1      3           NaN  \n",
       "2      3           NaN  \n",
       "3      0           NaN  \n",
       "4      1           NaN  \n",
       "\n",
       "[5 rows x 190 columns]"
      ]
     },
     "execution_count": 19,
     "metadata": {},
     "output_type": "execute_result"
    }
   ],
   "source": [
    "casos.head()"
   ]
  },
  {
   "cell_type": "markdown",
   "metadata": {},
   "source": [
    "Visualización de los datos importados"
   ]
  },
  {
   "cell_type": "markdown",
   "metadata": {},
   "source": [
    "2.6.- Eliminación de la última columna"
   ]
  },
  {
   "cell_type": "code",
   "execution_count": 20,
   "metadata": {},
   "outputs": [
    {
     "data": {
      "text/plain": [
       "Index(['UDALERRIA / MUNICIPIO', '13/05', '14/05', '15/05', '16/05', '17/05',\n",
       "       '18/05', '19/05', '20/05', '21/05',\n",
       "       ...\n",
       "       '09/11', '10/11', '11/11', '12/11', '13/11', '14/11', '15/11', '16/11',\n",
       "       '17/11', 'Unnamed: 189'],\n",
       "      dtype='object', length=190)"
      ]
     },
     "execution_count": 20,
     "metadata": {},
     "output_type": "execute_result"
    }
   ],
   "source": [
    "casos.columns"
   ]
  },
  {
   "cell_type": "code",
   "execution_count": 22,
   "metadata": {},
   "outputs": [],
   "source": [
    "casos = casos.iloc[:, :-1]"
   ]
  },
  {
   "cell_type": "markdown",
   "metadata": {},
   "source": [
    "2.7.- Cambio del nombre de las columnas para su simplificación"
   ]
  },
  {
   "cell_type": "code",
   "execution_count": 24,
   "metadata": {},
   "outputs": [],
   "source": [
    "casos.rename(columns={\"UDALERRIA / MUNICIPIO\": \"Municipios\"}, inplace=True)"
   ]
  },
  {
   "cell_type": "markdown",
   "metadata": {},
   "source": [
    "2.8.- Sustitución de los NaN por ceros"
   ]
  },
  {
   "cell_type": "code",
   "execution_count": 25,
   "metadata": {},
   "outputs": [],
   "source": [
    "casos.fillna(0, inplace=True)"
   ]
  },
  {
   "cell_type": "markdown",
   "metadata": {},
   "source": [
    "2.9.- División del DataFrame por territorios para luego poder calcular los casos diarios en cada uno de ellos"
   ]
  },
  {
   "cell_type": "code",
   "execution_count": 26,
   "metadata": {},
   "outputs": [],
   "source": [
    "casos_araba = casos.iloc[:51]"
   ]
  },
  {
   "cell_type": "code",
   "execution_count": 27,
   "metadata": {},
   "outputs": [],
   "source": [
    "casos_araba.set_index(\"Municipios\", inplace=True)"
   ]
  },
  {
   "cell_type": "code",
   "execution_count": 28,
   "metadata": {},
   "outputs": [],
   "source": [
    "casos_araba = casos_araba.astype(int)"
   ]
  },
  {
   "cell_type": "code",
   "execution_count": 29,
   "metadata": {},
   "outputs": [],
   "source": [
    "casos_araba = casos_araba.T"
   ]
  },
  {
   "cell_type": "code",
   "execution_count": 30,
   "metadata": {},
   "outputs": [
    {
     "data": {
      "text/html": [
       "<div>\n",
       "<style scoped>\n",
       "    .dataframe tbody tr th:only-of-type {\n",
       "        vertical-align: middle;\n",
       "    }\n",
       "\n",
       "    .dataframe tbody tr th {\n",
       "        vertical-align: top;\n",
       "    }\n",
       "\n",
       "    .dataframe thead th {\n",
       "        text-align: right;\n",
       "    }\n",
       "</style>\n",
       "<table border=\"1\" class=\"dataframe\">\n",
       "  <thead>\n",
       "    <tr style=\"text-align: right;\">\n",
       "      <th>Municipios</th>\n",
       "      <th>Agurain/Salvatierra</th>\n",
       "      <th>Alegrï¿½a-Dulantzi</th>\n",
       "      <th>Amurrio</th>\n",
       "      <th>Aï¿½ana</th>\n",
       "      <th>Aramaio</th>\n",
       "      <th>Armiï¿½ï¿½n</th>\n",
       "      <th>Arraia-Maeztu</th>\n",
       "      <th>Arratzua-Ubarrundia</th>\n",
       "      <th>Artziniega</th>\n",
       "      <th>Asparrena</th>\n",
       "      <th>...</th>\n",
       "      <th>San Millï¿½n/Donemiliaga</th>\n",
       "      <th>Urkabustaiz</th>\n",
       "      <th>Valdegovï¿½a/Gaubea</th>\n",
       "      <th>Villabuena de ï¿½lava/Eskuernaga</th>\n",
       "      <th>Vitoria-Gasteiz</th>\n",
       "      <th>Yï¿½cora/Iekora</th>\n",
       "      <th>Zalduondo</th>\n",
       "      <th>Zambrana</th>\n",
       "      <th>Zigoitia</th>\n",
       "      <th>Zuia</th>\n",
       "    </tr>\n",
       "  </thead>\n",
       "  <tbody>\n",
       "    <tr>\n",
       "      <th>13/05</th>\n",
       "      <td>1</td>\n",
       "      <td>0</td>\n",
       "      <td>0</td>\n",
       "      <td>0</td>\n",
       "      <td>0</td>\n",
       "      <td>0</td>\n",
       "      <td>0</td>\n",
       "      <td>0</td>\n",
       "      <td>0</td>\n",
       "      <td>0</td>\n",
       "      <td>...</td>\n",
       "      <td>0</td>\n",
       "      <td>0</td>\n",
       "      <td>0</td>\n",
       "      <td>0</td>\n",
       "      <td>3</td>\n",
       "      <td>0</td>\n",
       "      <td>0</td>\n",
       "      <td>0</td>\n",
       "      <td>0</td>\n",
       "      <td>0</td>\n",
       "    </tr>\n",
       "    <tr>\n",
       "      <th>14/05</th>\n",
       "      <td>0</td>\n",
       "      <td>1</td>\n",
       "      <td>0</td>\n",
       "      <td>0</td>\n",
       "      <td>0</td>\n",
       "      <td>0</td>\n",
       "      <td>0</td>\n",
       "      <td>0</td>\n",
       "      <td>0</td>\n",
       "      <td>0</td>\n",
       "      <td>...</td>\n",
       "      <td>0</td>\n",
       "      <td>0</td>\n",
       "      <td>0</td>\n",
       "      <td>0</td>\n",
       "      <td>7</td>\n",
       "      <td>0</td>\n",
       "      <td>0</td>\n",
       "      <td>0</td>\n",
       "      <td>0</td>\n",
       "      <td>0</td>\n",
       "    </tr>\n",
       "    <tr>\n",
       "      <th>15/05</th>\n",
       "      <td>0</td>\n",
       "      <td>0</td>\n",
       "      <td>0</td>\n",
       "      <td>0</td>\n",
       "      <td>0</td>\n",
       "      <td>0</td>\n",
       "      <td>0</td>\n",
       "      <td>0</td>\n",
       "      <td>0</td>\n",
       "      <td>0</td>\n",
       "      <td>...</td>\n",
       "      <td>0</td>\n",
       "      <td>0</td>\n",
       "      <td>0</td>\n",
       "      <td>0</td>\n",
       "      <td>1</td>\n",
       "      <td>0</td>\n",
       "      <td>0</td>\n",
       "      <td>0</td>\n",
       "      <td>0</td>\n",
       "      <td>0</td>\n",
       "    </tr>\n",
       "    <tr>\n",
       "      <th>16/05</th>\n",
       "      <td>0</td>\n",
       "      <td>0</td>\n",
       "      <td>0</td>\n",
       "      <td>0</td>\n",
       "      <td>0</td>\n",
       "      <td>0</td>\n",
       "      <td>0</td>\n",
       "      <td>0</td>\n",
       "      <td>0</td>\n",
       "      <td>0</td>\n",
       "      <td>...</td>\n",
       "      <td>0</td>\n",
       "      <td>0</td>\n",
       "      <td>0</td>\n",
       "      <td>0</td>\n",
       "      <td>6</td>\n",
       "      <td>0</td>\n",
       "      <td>0</td>\n",
       "      <td>0</td>\n",
       "      <td>0</td>\n",
       "      <td>0</td>\n",
       "    </tr>\n",
       "    <tr>\n",
       "      <th>17/05</th>\n",
       "      <td>0</td>\n",
       "      <td>0</td>\n",
       "      <td>0</td>\n",
       "      <td>0</td>\n",
       "      <td>0</td>\n",
       "      <td>0</td>\n",
       "      <td>0</td>\n",
       "      <td>0</td>\n",
       "      <td>0</td>\n",
       "      <td>0</td>\n",
       "      <td>...</td>\n",
       "      <td>0</td>\n",
       "      <td>0</td>\n",
       "      <td>0</td>\n",
       "      <td>0</td>\n",
       "      <td>2</td>\n",
       "      <td>0</td>\n",
       "      <td>0</td>\n",
       "      <td>0</td>\n",
       "      <td>0</td>\n",
       "      <td>0</td>\n",
       "    </tr>\n",
       "  </tbody>\n",
       "</table>\n",
       "<p>5 rows × 51 columns</p>\n",
       "</div>"
      ],
      "text/plain": [
       "Municipios  Agurain/Salvatierra  Alegrï¿½a-Dulantzi  Amurrio  Aï¿½ana  \\\n",
       "13/05                         1                   0        0        0   \n",
       "14/05                         0                   1        0        0   \n",
       "15/05                         0                   0        0        0   \n",
       "16/05                         0                   0        0        0   \n",
       "17/05                         0                   0        0        0   \n",
       "\n",
       "Municipios  Aramaio  Armiï¿½ï¿½n  Arraia-Maeztu  Arratzua-Ubarrundia  \\\n",
       "13/05             0            0              0                    0   \n",
       "14/05             0            0              0                    0   \n",
       "15/05             0            0              0                    0   \n",
       "16/05             0            0              0                    0   \n",
       "17/05             0            0              0                    0   \n",
       "\n",
       "Municipios  Artziniega  Asparrena  ...  San Millï¿½n/Donemiliaga  Urkabustaiz  \\\n",
       "13/05                0          0  ...                         0            0   \n",
       "14/05                0          0  ...                         0            0   \n",
       "15/05                0          0  ...                         0            0   \n",
       "16/05                0          0  ...                         0            0   \n",
       "17/05                0          0  ...                         0            0   \n",
       "\n",
       "Municipios  Valdegovï¿½a/Gaubea  Villabuena de ï¿½lava/Eskuernaga  \\\n",
       "13/05                         0                                 0   \n",
       "14/05                         0                                 0   \n",
       "15/05                         0                                 0   \n",
       "16/05                         0                                 0   \n",
       "17/05                         0                                 0   \n",
       "\n",
       "Municipios  Vitoria-Gasteiz  Yï¿½cora/Iekora  Zalduondo  Zambrana  Zigoitia  \\\n",
       "13/05                     3                0          0         0         0   \n",
       "14/05                     7                0          0         0         0   \n",
       "15/05                     1                0          0         0         0   \n",
       "16/05                     6                0          0         0         0   \n",
       "17/05                     2                0          0         0         0   \n",
       "\n",
       "Municipios  Zuia  \n",
       "13/05          0  \n",
       "14/05          0  \n",
       "15/05          0  \n",
       "16/05          0  \n",
       "17/05          0  \n",
       "\n",
       "[5 rows x 51 columns]"
      ]
     },
     "execution_count": 30,
     "metadata": {},
     "output_type": "execute_result"
    }
   ],
   "source": [
    "casos_araba.head()"
   ]
  },
  {
   "cell_type": "code",
   "execution_count": 31,
   "metadata": {},
   "outputs": [],
   "source": [
    "casos_bizkaia = casos.iloc[51:163]"
   ]
  },
  {
   "cell_type": "code",
   "execution_count": 32,
   "metadata": {},
   "outputs": [],
   "source": [
    "casos_bizkaia.set_index(\"Municipios\", inplace=True)"
   ]
  },
  {
   "cell_type": "code",
   "execution_count": 33,
   "metadata": {},
   "outputs": [],
   "source": [
    "casos_bizkaia = casos_bizkaia.astype(int)"
   ]
  },
  {
   "cell_type": "code",
   "execution_count": 34,
   "metadata": {},
   "outputs": [],
   "source": [
    "casos_bizkaia = casos_bizkaia.T"
   ]
  },
  {
   "cell_type": "code",
   "execution_count": 35,
   "metadata": {},
   "outputs": [
    {
     "data": {
      "text/html": [
       "<div>\n",
       "<style scoped>\n",
       "    .dataframe tbody tr th:only-of-type {\n",
       "        vertical-align: middle;\n",
       "    }\n",
       "\n",
       "    .dataframe tbody tr th {\n",
       "        vertical-align: top;\n",
       "    }\n",
       "\n",
       "    .dataframe thead th {\n",
       "        text-align: right;\n",
       "    }\n",
       "</style>\n",
       "<table border=\"1\" class=\"dataframe\">\n",
       "  <thead>\n",
       "    <tr style=\"text-align: right;\">\n",
       "      <th>Municipios</th>\n",
       "      <th>Abadiï¿½o</th>\n",
       "      <th>Abanto y Ciï¿½rvana-Abanto Zierbena</th>\n",
       "      <th>Ajangiz</th>\n",
       "      <th>Alonsotegi</th>\n",
       "      <th>Amorebieta-Etxano</th>\n",
       "      <th>Amoroto</th>\n",
       "      <th>Arakaldo</th>\n",
       "      <th>Arantzazu</th>\n",
       "      <th>Areatza</th>\n",
       "      <th>Arrankudiaga</th>\n",
       "      <th>...</th>\n",
       "      <th>Urduï¿½a/Orduï¿½a</th>\n",
       "      <th>Valle de Trï¿½paga-Trapagaran</th>\n",
       "      <th>Zaldibar</th>\n",
       "      <th>Zalla</th>\n",
       "      <th>Zamudio</th>\n",
       "      <th>Zaratamo</th>\n",
       "      <th>Zeanuri</th>\n",
       "      <th>Zeberio</th>\n",
       "      <th>Zierbena</th>\n",
       "      <th>Ziortza-Bolibar</th>\n",
       "    </tr>\n",
       "  </thead>\n",
       "  <tbody>\n",
       "    <tr>\n",
       "      <th>13/05</th>\n",
       "      <td>0</td>\n",
       "      <td>0</td>\n",
       "      <td>0</td>\n",
       "      <td>0</td>\n",
       "      <td>0</td>\n",
       "      <td>0</td>\n",
       "      <td>0</td>\n",
       "      <td>0</td>\n",
       "      <td>0</td>\n",
       "      <td>0</td>\n",
       "      <td>...</td>\n",
       "      <td>0</td>\n",
       "      <td>0</td>\n",
       "      <td>0</td>\n",
       "      <td>0</td>\n",
       "      <td>1</td>\n",
       "      <td>0</td>\n",
       "      <td>0</td>\n",
       "      <td>0</td>\n",
       "      <td>0</td>\n",
       "      <td>0</td>\n",
       "    </tr>\n",
       "    <tr>\n",
       "      <th>14/05</th>\n",
       "      <td>0</td>\n",
       "      <td>0</td>\n",
       "      <td>0</td>\n",
       "      <td>0</td>\n",
       "      <td>0</td>\n",
       "      <td>0</td>\n",
       "      <td>0</td>\n",
       "      <td>0</td>\n",
       "      <td>0</td>\n",
       "      <td>0</td>\n",
       "      <td>...</td>\n",
       "      <td>0</td>\n",
       "      <td>0</td>\n",
       "      <td>0</td>\n",
       "      <td>0</td>\n",
       "      <td>0</td>\n",
       "      <td>0</td>\n",
       "      <td>0</td>\n",
       "      <td>0</td>\n",
       "      <td>0</td>\n",
       "      <td>0</td>\n",
       "    </tr>\n",
       "    <tr>\n",
       "      <th>15/05</th>\n",
       "      <td>0</td>\n",
       "      <td>0</td>\n",
       "      <td>0</td>\n",
       "      <td>0</td>\n",
       "      <td>0</td>\n",
       "      <td>0</td>\n",
       "      <td>0</td>\n",
       "      <td>0</td>\n",
       "      <td>0</td>\n",
       "      <td>0</td>\n",
       "      <td>...</td>\n",
       "      <td>0</td>\n",
       "      <td>0</td>\n",
       "      <td>0</td>\n",
       "      <td>0</td>\n",
       "      <td>0</td>\n",
       "      <td>0</td>\n",
       "      <td>0</td>\n",
       "      <td>0</td>\n",
       "      <td>0</td>\n",
       "      <td>0</td>\n",
       "    </tr>\n",
       "    <tr>\n",
       "      <th>16/05</th>\n",
       "      <td>0</td>\n",
       "      <td>0</td>\n",
       "      <td>0</td>\n",
       "      <td>0</td>\n",
       "      <td>0</td>\n",
       "      <td>0</td>\n",
       "      <td>0</td>\n",
       "      <td>0</td>\n",
       "      <td>0</td>\n",
       "      <td>0</td>\n",
       "      <td>...</td>\n",
       "      <td>0</td>\n",
       "      <td>1</td>\n",
       "      <td>0</td>\n",
       "      <td>0</td>\n",
       "      <td>0</td>\n",
       "      <td>0</td>\n",
       "      <td>0</td>\n",
       "      <td>0</td>\n",
       "      <td>0</td>\n",
       "      <td>0</td>\n",
       "    </tr>\n",
       "    <tr>\n",
       "      <th>17/05</th>\n",
       "      <td>0</td>\n",
       "      <td>0</td>\n",
       "      <td>0</td>\n",
       "      <td>0</td>\n",
       "      <td>0</td>\n",
       "      <td>0</td>\n",
       "      <td>0</td>\n",
       "      <td>0</td>\n",
       "      <td>0</td>\n",
       "      <td>0</td>\n",
       "      <td>...</td>\n",
       "      <td>0</td>\n",
       "      <td>0</td>\n",
       "      <td>0</td>\n",
       "      <td>0</td>\n",
       "      <td>0</td>\n",
       "      <td>0</td>\n",
       "      <td>0</td>\n",
       "      <td>0</td>\n",
       "      <td>0</td>\n",
       "      <td>0</td>\n",
       "    </tr>\n",
       "  </tbody>\n",
       "</table>\n",
       "<p>5 rows × 112 columns</p>\n",
       "</div>"
      ],
      "text/plain": [
       "Municipios  Abadiï¿½o  Abanto y Ciï¿½rvana-Abanto Zierbena  Ajangiz  \\\n",
       "13/05               0                                    0        0   \n",
       "14/05               0                                    0        0   \n",
       "15/05               0                                    0        0   \n",
       "16/05               0                                    0        0   \n",
       "17/05               0                                    0        0   \n",
       "\n",
       "Municipios  Alonsotegi  Amorebieta-Etxano  Amoroto  Arakaldo  Arantzazu  \\\n",
       "13/05                0                  0        0         0          0   \n",
       "14/05                0                  0        0         0          0   \n",
       "15/05                0                  0        0         0          0   \n",
       "16/05                0                  0        0         0          0   \n",
       "17/05                0                  0        0         0          0   \n",
       "\n",
       "Municipios  Areatza  Arrankudiaga  ...  Urduï¿½a/Orduï¿½a  \\\n",
       "13/05             0             0  ...                  0   \n",
       "14/05             0             0  ...                  0   \n",
       "15/05             0             0  ...                  0   \n",
       "16/05             0             0  ...                  0   \n",
       "17/05             0             0  ...                  0   \n",
       "\n",
       "Municipios  Valle de Trï¿½paga-Trapagaran  Zaldibar  Zalla  Zamudio  Zaratamo  \\\n",
       "13/05                                   0         0      0        1         0   \n",
       "14/05                                   0         0      0        0         0   \n",
       "15/05                                   0         0      0        0         0   \n",
       "16/05                                   1         0      0        0         0   \n",
       "17/05                                   0         0      0        0         0   \n",
       "\n",
       "Municipios  Zeanuri  Zeberio  Zierbena  Ziortza-Bolibar  \n",
       "13/05             0        0         0                0  \n",
       "14/05             0        0         0                0  \n",
       "15/05             0        0         0                0  \n",
       "16/05             0        0         0                0  \n",
       "17/05             0        0         0                0  \n",
       "\n",
       "[5 rows x 112 columns]"
      ]
     },
     "execution_count": 35,
     "metadata": {},
     "output_type": "execute_result"
    }
   ],
   "source": [
    "casos_bizkaia.head()"
   ]
  },
  {
   "cell_type": "code",
   "execution_count": 36,
   "metadata": {},
   "outputs": [],
   "source": [
    "casos_gipuzkoa = casos.iloc[163:251]"
   ]
  },
  {
   "cell_type": "code",
   "execution_count": 37,
   "metadata": {},
   "outputs": [],
   "source": [
    "casos_gipuzkoa.set_index(\"Municipios\", inplace=True)"
   ]
  },
  {
   "cell_type": "code",
   "execution_count": 38,
   "metadata": {},
   "outputs": [],
   "source": [
    "casos_gipuzkoa = casos_gipuzkoa.astype(int)"
   ]
  },
  {
   "cell_type": "code",
   "execution_count": 39,
   "metadata": {},
   "outputs": [],
   "source": [
    "casos_gipuzkoa = casos_gipuzkoa.T"
   ]
  },
  {
   "cell_type": "code",
   "execution_count": 40,
   "metadata": {},
   "outputs": [
    {
     "data": {
      "text/html": [
       "<div>\n",
       "<style scoped>\n",
       "    .dataframe tbody tr th:only-of-type {\n",
       "        vertical-align: middle;\n",
       "    }\n",
       "\n",
       "    .dataframe tbody tr th {\n",
       "        vertical-align: top;\n",
       "    }\n",
       "\n",
       "    .dataframe thead th {\n",
       "        text-align: right;\n",
       "    }\n",
       "</style>\n",
       "<table border=\"1\" class=\"dataframe\">\n",
       "  <thead>\n",
       "    <tr style=\"text-align: right;\">\n",
       "      <th>Municipios</th>\n",
       "      <th>Abaltzisketa</th>\n",
       "      <th>Aduna</th>\n",
       "      <th>Aia</th>\n",
       "      <th>Aizarnazabal</th>\n",
       "      <th>Alegia</th>\n",
       "      <th>Albiztur</th>\n",
       "      <th>Alkiza</th>\n",
       "      <th>Altzaga</th>\n",
       "      <th>Altzo</th>\n",
       "      <th>Amezketa</th>\n",
       "      <th>...</th>\n",
       "      <th>Usurbil</th>\n",
       "      <th>Villabona</th>\n",
       "      <th>Zaldibia</th>\n",
       "      <th>Zarautz</th>\n",
       "      <th>Zegama</th>\n",
       "      <th>Zerain</th>\n",
       "      <th>Zestoa</th>\n",
       "      <th>Zizurkil</th>\n",
       "      <th>Zumaia</th>\n",
       "      <th>Zumarraga</th>\n",
       "    </tr>\n",
       "  </thead>\n",
       "  <tbody>\n",
       "    <tr>\n",
       "      <th>13/05</th>\n",
       "      <td>0</td>\n",
       "      <td>0</td>\n",
       "      <td>0</td>\n",
       "      <td>0</td>\n",
       "      <td>0</td>\n",
       "      <td>0</td>\n",
       "      <td>0</td>\n",
       "      <td>0</td>\n",
       "      <td>0</td>\n",
       "      <td>0</td>\n",
       "      <td>...</td>\n",
       "      <td>0</td>\n",
       "      <td>0</td>\n",
       "      <td>0</td>\n",
       "      <td>1</td>\n",
       "      <td>0</td>\n",
       "      <td>0</td>\n",
       "      <td>0</td>\n",
       "      <td>0</td>\n",
       "      <td>0</td>\n",
       "      <td>0</td>\n",
       "    </tr>\n",
       "    <tr>\n",
       "      <th>14/05</th>\n",
       "      <td>0</td>\n",
       "      <td>0</td>\n",
       "      <td>0</td>\n",
       "      <td>0</td>\n",
       "      <td>0</td>\n",
       "      <td>0</td>\n",
       "      <td>0</td>\n",
       "      <td>0</td>\n",
       "      <td>0</td>\n",
       "      <td>0</td>\n",
       "      <td>...</td>\n",
       "      <td>0</td>\n",
       "      <td>0</td>\n",
       "      <td>0</td>\n",
       "      <td>0</td>\n",
       "      <td>0</td>\n",
       "      <td>0</td>\n",
       "      <td>0</td>\n",
       "      <td>0</td>\n",
       "      <td>0</td>\n",
       "      <td>0</td>\n",
       "    </tr>\n",
       "    <tr>\n",
       "      <th>15/05</th>\n",
       "      <td>0</td>\n",
       "      <td>0</td>\n",
       "      <td>0</td>\n",
       "      <td>0</td>\n",
       "      <td>0</td>\n",
       "      <td>0</td>\n",
       "      <td>0</td>\n",
       "      <td>0</td>\n",
       "      <td>0</td>\n",
       "      <td>0</td>\n",
       "      <td>...</td>\n",
       "      <td>0</td>\n",
       "      <td>0</td>\n",
       "      <td>0</td>\n",
       "      <td>0</td>\n",
       "      <td>0</td>\n",
       "      <td>0</td>\n",
       "      <td>0</td>\n",
       "      <td>0</td>\n",
       "      <td>0</td>\n",
       "      <td>0</td>\n",
       "    </tr>\n",
       "    <tr>\n",
       "      <th>16/05</th>\n",
       "      <td>0</td>\n",
       "      <td>0</td>\n",
       "      <td>0</td>\n",
       "      <td>0</td>\n",
       "      <td>0</td>\n",
       "      <td>0</td>\n",
       "      <td>0</td>\n",
       "      <td>0</td>\n",
       "      <td>0</td>\n",
       "      <td>0</td>\n",
       "      <td>...</td>\n",
       "      <td>0</td>\n",
       "      <td>0</td>\n",
       "      <td>0</td>\n",
       "      <td>1</td>\n",
       "      <td>0</td>\n",
       "      <td>0</td>\n",
       "      <td>0</td>\n",
       "      <td>0</td>\n",
       "      <td>0</td>\n",
       "      <td>0</td>\n",
       "    </tr>\n",
       "    <tr>\n",
       "      <th>17/05</th>\n",
       "      <td>0</td>\n",
       "      <td>0</td>\n",
       "      <td>0</td>\n",
       "      <td>0</td>\n",
       "      <td>0</td>\n",
       "      <td>0</td>\n",
       "      <td>0</td>\n",
       "      <td>0</td>\n",
       "      <td>0</td>\n",
       "      <td>0</td>\n",
       "      <td>...</td>\n",
       "      <td>0</td>\n",
       "      <td>0</td>\n",
       "      <td>0</td>\n",
       "      <td>0</td>\n",
       "      <td>0</td>\n",
       "      <td>0</td>\n",
       "      <td>0</td>\n",
       "      <td>0</td>\n",
       "      <td>0</td>\n",
       "      <td>0</td>\n",
       "    </tr>\n",
       "  </tbody>\n",
       "</table>\n",
       "<p>5 rows × 88 columns</p>\n",
       "</div>"
      ],
      "text/plain": [
       "Municipios  Abaltzisketa  Aduna  Aia  Aizarnazabal  Alegia  Albiztur  Alkiza  \\\n",
       "13/05                  0      0    0             0       0         0       0   \n",
       "14/05                  0      0    0             0       0         0       0   \n",
       "15/05                  0      0    0             0       0         0       0   \n",
       "16/05                  0      0    0             0       0         0       0   \n",
       "17/05                  0      0    0             0       0         0       0   \n",
       "\n",
       "Municipios  Altzaga  Altzo  Amezketa  ...  Usurbil  Villabona  Zaldibia  \\\n",
       "13/05             0      0         0  ...        0          0         0   \n",
       "14/05             0      0         0  ...        0          0         0   \n",
       "15/05             0      0         0  ...        0          0         0   \n",
       "16/05             0      0         0  ...        0          0         0   \n",
       "17/05             0      0         0  ...        0          0         0   \n",
       "\n",
       "Municipios  Zarautz  Zegama  Zerain  Zestoa  Zizurkil  Zumaia  Zumarraga  \n",
       "13/05             1       0       0       0         0       0          0  \n",
       "14/05             0       0       0       0         0       0          0  \n",
       "15/05             0       0       0       0         0       0          0  \n",
       "16/05             1       0       0       0         0       0          0  \n",
       "17/05             0       0       0       0         0       0          0  \n",
       "\n",
       "[5 rows x 88 columns]"
      ]
     },
     "execution_count": 40,
     "metadata": {},
     "output_type": "execute_result"
    }
   ],
   "source": [
    "casos_gipuzkoa.head()"
   ]
  },
  {
   "cell_type": "code",
   "execution_count": null,
   "metadata": {},
   "outputs": [],
   "source": []
  },
  {
   "cell_type": "markdown",
   "metadata": {},
   "source": [
    "### 3.- Obtención datos"
   ]
  },
  {
   "cell_type": "markdown",
   "metadata": {},
   "source": [
    "Casos totales de Covid-19 desde el inicio de la pandemia en Euskadi."
   ]
  },
  {
   "cell_type": "code",
   "execution_count": 41,
   "metadata": {},
   "outputs": [],
   "source": [
    "casos_totales = incidencia[\"Casos\"].sum()"
   ]
  },
  {
   "cell_type": "code",
   "execution_count": 42,
   "metadata": {},
   "outputs": [
    {
     "name": "stdout",
     "output_type": "stream",
     "text": [
      "90409\n"
     ]
    }
   ],
   "source": [
    "print(casos_totales)"
   ]
  },
  {
   "cell_type": "markdown",
   "metadata": {},
   "source": [
    "Casos totales de Covid-19 en el último día en Euskadi."
   ]
  },
  {
   "cell_type": "code",
   "execution_count": 43,
   "metadata": {},
   "outputs": [],
   "source": [
    "casos_totales_dia = incidencia.iloc[-1][\"Casos\"]"
   ]
  },
  {
   "cell_type": "code",
   "execution_count": 44,
   "metadata": {},
   "outputs": [
    {
     "name": "stdout",
     "output_type": "stream",
     "text": [
      "1050\n"
     ]
    }
   ],
   "source": [
    "print(casos_totales_dia)"
   ]
  },
  {
   "cell_type": "markdown",
   "metadata": {},
   "source": [
    "Incidencia Euskadi"
   ]
  },
  {
   "cell_type": "code",
   "execution_count": 45,
   "metadata": {},
   "outputs": [],
   "source": [
    "incidencia_euskadi = incidencia.iloc[-1][\"Incidencia Euskadi\"]"
   ]
  },
  {
   "cell_type": "code",
   "execution_count": 46,
   "metadata": {},
   "outputs": [
    {
     "name": "stdout",
     "output_type": "stream",
     "text": [
      "799.49\n"
     ]
    }
   ],
   "source": [
    "print(incidencia_euskadi)"
   ]
  },
  {
   "cell_type": "markdown",
   "metadata": {},
   "source": [
    "Incidencia Araba"
   ]
  },
  {
   "cell_type": "code",
   "execution_count": 47,
   "metadata": {},
   "outputs": [],
   "source": [
    "incidencia_araba = incidencia.iloc[-1][\"Incidencia Araba\"]"
   ]
  },
  {
   "cell_type": "code",
   "execution_count": 48,
   "metadata": {},
   "outputs": [
    {
     "name": "stdout",
     "output_type": "stream",
     "text": [
      "539.38\n"
     ]
    }
   ],
   "source": [
    "print(incidencia_araba)"
   ]
  },
  {
   "cell_type": "markdown",
   "metadata": {},
   "source": [
    "Incidencia Bizkaia"
   ]
  },
  {
   "cell_type": "code",
   "execution_count": 49,
   "metadata": {},
   "outputs": [],
   "source": [
    "incidencia_bizkaia = incidencia.iloc[-1][\"Incidencia Bizkaia\"]"
   ]
  },
  {
   "cell_type": "code",
   "execution_count": 50,
   "metadata": {},
   "outputs": [
    {
     "name": "stdout",
     "output_type": "stream",
     "text": [
      "706.13\n"
     ]
    }
   ],
   "source": [
    "print(incidencia_bizkaia)"
   ]
  },
  {
   "cell_type": "markdown",
   "metadata": {},
   "source": [
    "Incidencia Gipuzkoa"
   ]
  },
  {
   "cell_type": "code",
   "execution_count": 51,
   "metadata": {},
   "outputs": [],
   "source": [
    "incidencia_gipuzkoa = incidencia.iloc[-1][\"Incidencia Gipuzkoa\"]"
   ]
  },
  {
   "cell_type": "code",
   "execution_count": 52,
   "metadata": {},
   "outputs": [
    {
     "name": "stdout",
     "output_type": "stream",
     "text": [
      "1040.72\n"
     ]
    }
   ],
   "source": [
    "print(incidencia_gipuzkoa)"
   ]
  },
  {
   "cell_type": "markdown",
   "metadata": {},
   "source": [
    "Casos al día Araba"
   ]
  },
  {
   "cell_type": "code",
   "execution_count": 53,
   "metadata": {},
   "outputs": [],
   "source": [
    "casos_araba_dia = casos_araba.iloc[[-1]].sum(axis=1)"
   ]
  },
  {
   "cell_type": "code",
   "execution_count": 54,
   "metadata": {},
   "outputs": [],
   "source": [
    "casos_araba_dia = casos_araba_dia.iloc[0]"
   ]
  },
  {
   "cell_type": "code",
   "execution_count": 55,
   "metadata": {},
   "outputs": [
    {
     "name": "stdout",
     "output_type": "stream",
     "text": [
      "122\n"
     ]
    }
   ],
   "source": [
    "print(casos_araba_dia)"
   ]
  },
  {
   "cell_type": "markdown",
   "metadata": {},
   "source": [
    "Casos al día Bizkaia"
   ]
  },
  {
   "cell_type": "code",
   "execution_count": 56,
   "metadata": {},
   "outputs": [],
   "source": [
    "casos_bizkaia_dia = casos_bizkaia.iloc[[-1]].sum(axis=1)"
   ]
  },
  {
   "cell_type": "code",
   "execution_count": 57,
   "metadata": {},
   "outputs": [],
   "source": [
    "casos_bizkaia_dia = casos_bizkaia_dia.iloc[0]"
   ]
  },
  {
   "cell_type": "code",
   "execution_count": 58,
   "metadata": {},
   "outputs": [
    {
     "name": "stdout",
     "output_type": "stream",
     "text": [
      "459\n"
     ]
    }
   ],
   "source": [
    "print(casos_bizkaia_dia)"
   ]
  },
  {
   "cell_type": "markdown",
   "metadata": {},
   "source": [
    "Casos al día Gipuzkoa"
   ]
  },
  {
   "cell_type": "code",
   "execution_count": 59,
   "metadata": {},
   "outputs": [],
   "source": [
    "casos_gipuzkoa_dia = casos_gipuzkoa.iloc[[-1]].sum(axis=1)"
   ]
  },
  {
   "cell_type": "code",
   "execution_count": 60,
   "metadata": {},
   "outputs": [],
   "source": [
    "casos_gipuzkoa_dia = casos_gipuzkoa_dia.iloc[0]"
   ]
  },
  {
   "cell_type": "code",
   "execution_count": 61,
   "metadata": {},
   "outputs": [
    {
     "name": "stdout",
     "output_type": "stream",
     "text": [
      "459\n"
     ]
    }
   ],
   "source": [
    "print(casos_gipuzkoa_dia)"
   ]
  },
  {
   "cell_type": "markdown",
   "metadata": {},
   "source": [
    "Casos con residencia fuera de Euskadi"
   ]
  },
  {
   "cell_type": "code",
   "execution_count": 62,
   "metadata": {},
   "outputs": [],
   "source": [
    "casos_no_euskadi = int(casos.iat[-1, -1])"
   ]
  },
  {
   "cell_type": "code",
   "execution_count": 63,
   "metadata": {},
   "outputs": [
    {
     "name": "stdout",
     "output_type": "stream",
     "text": [
      "10\n"
     ]
    }
   ],
   "source": [
    "print(casos_no_euskadi)"
   ]
  },
  {
   "cell_type": "markdown",
   "metadata": {},
   "source": [
    "Fecha actualización"
   ]
  },
  {
   "cell_type": "code",
   "execution_count": 70,
   "metadata": {},
   "outputs": [],
   "source": [
    "fecha_actualizacion = date.today()"
   ]
  },
  {
   "cell_type": "code",
   "execution_count": 71,
   "metadata": {},
   "outputs": [
    {
     "name": "stdout",
     "output_type": "stream",
     "text": [
      "2020-11-18\n"
     ]
    }
   ],
   "source": [
    "print(fecha_actualizacion)"
   ]
  },
  {
   "cell_type": "markdown",
   "metadata": {},
   "source": [
    "Casos segunda ola"
   ]
  },
  {
   "cell_type": "code",
   "execution_count": 84,
   "metadata": {},
   "outputs": [],
   "source": [
    "segunda = incidencia[122:]"
   ]
  },
  {
   "cell_type": "code",
   "execution_count": 87,
   "metadata": {},
   "outputs": [],
   "source": [
    "segunda.reset_index(drop=True, inplace=True)"
   ]
  },
  {
   "cell_type": "markdown",
   "metadata": {},
   "source": [
    "### 4.- Exportación datos"
   ]
  },
  {
   "cell_type": "markdown",
   "metadata": {},
   "source": [
    "Exportación de los datos que el Bot va a incluir en los mensajes que intercambiará con el usuario."
   ]
  },
  {
   "cell_type": "code",
   "execution_count": 72,
   "metadata": {},
   "outputs": [],
   "source": [
    "datos_casos = open(\"../mensajes/casos.pickle\", \"wb\")"
   ]
  },
  {
   "cell_type": "code",
   "execution_count": 73,
   "metadata": {},
   "outputs": [],
   "source": [
    "pickle.dump(casos_totales, datos_casos)\n",
    "pickle.dump(casos_totales_dia, datos_casos)\n",
    "pickle.dump(casos_araba_dia, datos_casos)\n",
    "pickle.dump(casos_bizkaia_dia, datos_casos)\n",
    "pickle.dump(casos_gipuzkoa_dia, datos_casos)\n",
    "pickle.dump(casos_no_euskadi, datos_casos)\n",
    "pickle.dump(incidencia_euskadi, datos_casos)\n",
    "pickle.dump(incidencia_araba, datos_casos)\n",
    "pickle.dump(incidencia_bizkaia, datos_casos)\n",
    "pickle.dump(incidencia_gipuzkoa, datos_casos)\n",
    "pickle.dump(fecha_actualizacion, datos_casos)"
   ]
  },
  {
   "cell_type": "code",
   "execution_count": 74,
   "metadata": {},
   "outputs": [],
   "source": [
    "datos_casos.close()"
   ]
  },
  {
   "cell_type": "markdown",
   "metadata": {},
   "source": [
    "Exportación de un nuevo csv para hacer una visualización sobre la evolución de la incidencia en los últimos 30 días"
   ]
  },
  {
   "cell_type": "code",
   "execution_count": 75,
   "metadata": {},
   "outputs": [],
   "source": [
    "incidencia_30 = incidencia[-30:]"
   ]
  },
  {
   "cell_type": "code",
   "execution_count": 76,
   "metadata": {},
   "outputs": [],
   "source": [
    "incidencia_30.reset_index(drop=True, inplace=True)"
   ]
  },
  {
   "cell_type": "code",
   "execution_count": 77,
   "metadata": {},
   "outputs": [],
   "source": [
    "incidencia_30.to_csv(\"../graficos/incidencia.csv\")"
   ]
  },
  {
   "cell_type": "markdown",
   "metadata": {},
   "source": [
    "Exportación de un nuevo csv para hacer una visualización sobre la evolución de los casos en la segunda ola"
   ]
  },
  {
   "cell_type": "code",
   "execution_count": 89,
   "metadata": {},
   "outputs": [],
   "source": [
    "segunda.to_csv(\"../graficos/casos.csv\")"
   ]
  }
 ],
 "metadata": {
  "kernelspec": {
   "display_name": "Python 3",
   "language": "python",
   "name": "python3"
  },
  "language_info": {
   "codemirror_mode": {
    "name": "ipython",
    "version": 3
   },
   "file_extension": ".py",
   "mimetype": "text/x-python",
   "name": "python",
   "nbconvert_exporter": "python",
   "pygments_lexer": "ipython3",
   "version": "3.8.6"
  }
 },
 "nbformat": 4,
 "nbformat_minor": 4
}
