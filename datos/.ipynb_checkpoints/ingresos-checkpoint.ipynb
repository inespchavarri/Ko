{
 "cells": [
  {
   "cell_type": "markdown",
   "metadata": {},
   "source": [
    "# Extracción de las cifras relativas a los ingresos en planta con Covid-19 en Euskadi"
   ]
  },
  {
   "cell_type": "markdown",
   "metadata": {},
   "source": [
    "Para la obtención de estos datos utilizo el documento 08.csv de la carpeta datos-asistenciales. Estos datos, al igual que el resto de utilizados en este proyecto, se pueden obtener en la web https://opendata.euskadi.eus/inicio/"
   ]
  },
  {
   "cell_type": "markdown",
   "metadata": {},
   "source": [
    "### 1.- Importación de las librerias necesarias para la limpieza de los datos"
   ]
  },
  {
   "cell_type": "code",
   "execution_count": 1,
   "metadata": {},
   "outputs": [],
   "source": [
    "import pandas as pd\n",
    "import numpy as np\n",
    "import pickle\n",
    "from datetime import datetime"
   ]
  },
  {
   "cell_type": "markdown",
   "metadata": {},
   "source": [
    "### 2.- Limpieza datos"
   ]
  },
  {
   "cell_type": "markdown",
   "metadata": {},
   "source": [
    "Antes de importar el documento, elimino las dos primeras filas del encabezamiento del csv en un editor. Son un par de líneas con una breve descripción de los datos que incluye el documento, pero innecesarias para su limpieza. Además, así Pandas reconoce automáticamente el nombre de las columnas."
   ]
  },
  {
   "cell_type": "code",
   "execution_count": 2,
   "metadata": {},
   "outputs": [],
   "source": [
    "ingresos = pd.read_csv(\"datos-asistenciales/08.csv\", sep=\";\", encoding=\"latin-1\")"
   ]
  },
  {
   "cell_type": "markdown",
   "metadata": {},
   "source": [
    "Visualización de los datos importados."
   ]
  },
  {
   "cell_type": "code",
   "execution_count": 3,
   "metadata": {},
   "outputs": [
    {
     "data": {
      "text/html": [
       "<div>\n",
       "<style scoped>\n",
       "    .dataframe tbody tr th:only-of-type {\n",
       "        vertical-align: middle;\n",
       "    }\n",
       "\n",
       "    .dataframe tbody tr th {\n",
       "        vertical-align: top;\n",
       "    }\n",
       "\n",
       "    .dataframe thead th {\n",
       "        text-align: right;\n",
       "    }\n",
       "</style>\n",
       "<table border=\"1\" class=\"dataframe\">\n",
       "  <thead>\n",
       "    <tr style=\"text-align: right;\">\n",
       "      <th></th>\n",
       "      <th>Unnamed: 0</th>\n",
       "      <th>Ingresos nuevos en planta</th>\n",
       "      <th>01 Araba</th>\n",
       "      <th>02 Cruces</th>\n",
       "      <th>03 Donosti</th>\n",
       "      <th>04 Basurto</th>\n",
       "      <th>05 Galdakao</th>\n",
       "      <th>06 Zumarraga</th>\n",
       "      <th>07 Bidasoa</th>\n",
       "      <th>08 Mendaro</th>\n",
       "      <th>...</th>\n",
       "      <th>10 San Eloy</th>\n",
       "      <th>11 Urduliz</th>\n",
       "      <th>12 Eibar</th>\n",
       "      <th>13 Leza</th>\n",
       "      <th>14 Sta Marina</th>\n",
       "      <th>15 Gorliz</th>\n",
       "      <th>BERMEO H.</th>\n",
       "      <th>ZAMUDIO H.</th>\n",
       "      <th>ï¿½LAVA PSIQUIï¿½TRICO H.</th>\n",
       "      <th>Unnamed: 20</th>\n",
       "    </tr>\n",
       "  </thead>\n",
       "  <tbody>\n",
       "    <tr>\n",
       "      <th>0</th>\n",
       "      <td>2020/05/01</td>\n",
       "      <td>22</td>\n",
       "      <td>6</td>\n",
       "      <td>3</td>\n",
       "      <td>1</td>\n",
       "      <td>6</td>\n",
       "      <td>1</td>\n",
       "      <td>0.0</td>\n",
       "      <td>0.0</td>\n",
       "      <td>1.0</td>\n",
       "      <td>...</td>\n",
       "      <td>1.0</td>\n",
       "      <td>0.0</td>\n",
       "      <td>0.0</td>\n",
       "      <td>0.0</td>\n",
       "      <td>2</td>\n",
       "      <td>1</td>\n",
       "      <td>0.0</td>\n",
       "      <td>0</td>\n",
       "      <td>0</td>\n",
       "      <td>NaN</td>\n",
       "    </tr>\n",
       "    <tr>\n",
       "      <th>1</th>\n",
       "      <td>2020/05/02</td>\n",
       "      <td>16</td>\n",
       "      <td>4</td>\n",
       "      <td>2</td>\n",
       "      <td>0</td>\n",
       "      <td>5</td>\n",
       "      <td>0</td>\n",
       "      <td>0.0</td>\n",
       "      <td>0.0</td>\n",
       "      <td>0.0</td>\n",
       "      <td>...</td>\n",
       "      <td>0.0</td>\n",
       "      <td>0.0</td>\n",
       "      <td>0.0</td>\n",
       "      <td>0.0</td>\n",
       "      <td>4</td>\n",
       "      <td>0</td>\n",
       "      <td>0.0</td>\n",
       "      <td>0</td>\n",
       "      <td>0</td>\n",
       "      <td>NaN</td>\n",
       "    </tr>\n",
       "    <tr>\n",
       "      <th>2</th>\n",
       "      <td>2020/05/03</td>\n",
       "      <td>13</td>\n",
       "      <td>4</td>\n",
       "      <td>4</td>\n",
       "      <td>0</td>\n",
       "      <td>3</td>\n",
       "      <td>1</td>\n",
       "      <td>0.0</td>\n",
       "      <td>0.0</td>\n",
       "      <td>0.0</td>\n",
       "      <td>...</td>\n",
       "      <td>0.0</td>\n",
       "      <td>0.0</td>\n",
       "      <td>0.0</td>\n",
       "      <td>0.0</td>\n",
       "      <td>1</td>\n",
       "      <td>0</td>\n",
       "      <td>0.0</td>\n",
       "      <td>0</td>\n",
       "      <td>0</td>\n",
       "      <td>NaN</td>\n",
       "    </tr>\n",
       "    <tr>\n",
       "      <th>3</th>\n",
       "      <td>2020/05/04</td>\n",
       "      <td>28</td>\n",
       "      <td>11</td>\n",
       "      <td>2</td>\n",
       "      <td>4</td>\n",
       "      <td>4</td>\n",
       "      <td>2</td>\n",
       "      <td>0.0</td>\n",
       "      <td>0.0</td>\n",
       "      <td>0.0</td>\n",
       "      <td>...</td>\n",
       "      <td>0.0</td>\n",
       "      <td>0.0</td>\n",
       "      <td>1.0</td>\n",
       "      <td>0.0</td>\n",
       "      <td>2</td>\n",
       "      <td>2</td>\n",
       "      <td>0.0</td>\n",
       "      <td>0</td>\n",
       "      <td>0</td>\n",
       "      <td>NaN</td>\n",
       "    </tr>\n",
       "    <tr>\n",
       "      <th>4</th>\n",
       "      <td>2020/05/05</td>\n",
       "      <td>36</td>\n",
       "      <td>8</td>\n",
       "      <td>4</td>\n",
       "      <td>2</td>\n",
       "      <td>6</td>\n",
       "      <td>5</td>\n",
       "      <td>1.0</td>\n",
       "      <td>0.0</td>\n",
       "      <td>1.0</td>\n",
       "      <td>...</td>\n",
       "      <td>1.0</td>\n",
       "      <td>0.0</td>\n",
       "      <td>0.0</td>\n",
       "      <td>1.0</td>\n",
       "      <td>3</td>\n",
       "      <td>3</td>\n",
       "      <td>0.0</td>\n",
       "      <td>1</td>\n",
       "      <td>0</td>\n",
       "      <td>NaN</td>\n",
       "    </tr>\n",
       "  </tbody>\n",
       "</table>\n",
       "<p>5 rows × 21 columns</p>\n",
       "</div>"
      ],
      "text/plain": [
       "   Unnamed: 0  Ingresos nuevos en planta  01 Araba  02 Cruces  03 Donosti  \\\n",
       "0  2020/05/01                         22         6          3           1   \n",
       "1  2020/05/02                         16         4          2           0   \n",
       "2  2020/05/03                         13         4          4           0   \n",
       "3  2020/05/04                         28        11          2           4   \n",
       "4  2020/05/05                         36         8          4           2   \n",
       "\n",
       "   04 Basurto  05 Galdakao  06 Zumarraga  07 Bidasoa  08 Mendaro  ...  \\\n",
       "0           6            1           0.0         0.0         1.0  ...   \n",
       "1           5            0           0.0         0.0         0.0  ...   \n",
       "2           3            1           0.0         0.0         0.0  ...   \n",
       "3           4            2           0.0         0.0         0.0  ...   \n",
       "4           6            5           1.0         0.0         1.0  ...   \n",
       "\n",
       "   10 San Eloy  11 Urduliz  12 Eibar  13 Leza  14 Sta Marina  15 Gorliz  \\\n",
       "0          1.0         0.0       0.0      0.0              2          1   \n",
       "1          0.0         0.0       0.0      0.0              4          0   \n",
       "2          0.0         0.0       0.0      0.0              1          0   \n",
       "3          0.0         0.0       1.0      0.0              2          2   \n",
       "4          1.0         0.0       0.0      1.0              3          3   \n",
       "\n",
       "   BERMEO H.  ZAMUDIO H.  ï¿½LAVA PSIQUIï¿½TRICO H.  Unnamed: 20  \n",
       "0        0.0           0                          0          NaN  \n",
       "1        0.0           0                          0          NaN  \n",
       "2        0.0           0                          0          NaN  \n",
       "3        0.0           0                          0          NaN  \n",
       "4        0.0           1                          0          NaN  \n",
       "\n",
       "[5 rows x 21 columns]"
      ]
     },
     "execution_count": 3,
     "metadata": {},
     "output_type": "execute_result"
    }
   ],
   "source": [
    "ingresos.head()"
   ]
  },
  {
   "cell_type": "markdown",
   "metadata": {},
   "source": [
    "Tras visualizar los datos importados y para facilitar el análisis de los mismos doy los siguientes pasos:"
   ]
  },
  {
   "cell_type": "markdown",
   "metadata": {},
   "source": [
    "2.1.- Eliminación de la última columna, que no se corresponde con ningún hospital"
   ]
  },
  {
   "cell_type": "code",
   "execution_count": 4,
   "metadata": {},
   "outputs": [
    {
     "data": {
      "text/plain": [
       "Index(['Unnamed: 0', 'Ingresos nuevos en planta', '01 Araba', '02 Cruces',\n",
       "       '03 Donosti', '04 Basurto', '05 Galdakao', '06 Zumarraga', '07 Bidasoa',\n",
       "       '08 Mendaro', '09 Alto Deba', '10 San Eloy', '11 Urduliz', '12 Eibar',\n",
       "       '13 Leza', '14 Sta Marina', '15 Gorliz', 'BERMEO H.', 'ZAMUDIO H.',\n",
       "       'ï¿½LAVA PSIQUIï¿½TRICO H.', 'Unnamed: 20'],\n",
       "      dtype='object')"
      ]
     },
     "execution_count": 4,
     "metadata": {},
     "output_type": "execute_result"
    }
   ],
   "source": [
    "ingresos.columns"
   ]
  },
  {
   "cell_type": "code",
   "execution_count": 5,
   "metadata": {},
   "outputs": [],
   "source": [
    "ingresos.drop([\"Unnamed: 20\"], axis=\"columns\", inplace=True)"
   ]
  },
  {
   "cell_type": "markdown",
   "metadata": {},
   "source": [
    "2.2.- Cambio del nombre de las columnas para su simplificación"
   ]
  },
  {
   "cell_type": "code",
   "execution_count": 6,
   "metadata": {},
   "outputs": [],
   "source": [
    "columnas = [\"Fecha\", \"Ingresos planta\", \"Araba\", \"Cruces\", \"Donosti\", \"Basurto\", \"Galdakao\", \"Zumarraga\", \"Bidasoa\", \"Mendaro\", \"Alto Deba\", \"San Eloy\", \"Urduliz\", \"Eibar\", \"Leza\", \"Sta Marina\", \"Gorliz\", \"Bermeo\", \"Zamudio\", \"Psiquiátrico Álava\"]"
   ]
  },
  {
   "cell_type": "code",
   "execution_count": 7,
   "metadata": {},
   "outputs": [],
   "source": [
    "ingresos.columns = columnas"
   ]
  },
  {
   "cell_type": "markdown",
   "metadata": {},
   "source": [
    "2.3.- Sustitución de los resultados NaN por ceros"
   ]
  },
  {
   "cell_type": "code",
   "execution_count": 8,
   "metadata": {},
   "outputs": [],
   "source": [
    "ingresos.fillna(0, inplace=True)"
   ]
  },
  {
   "cell_type": "markdown",
   "metadata": {},
   "source": [
    "2.4.- Cambio del formato de las fechas para que Python las reconozca como tal"
   ]
  },
  {
   "cell_type": "code",
   "execution_count": 9,
   "metadata": {},
   "outputs": [],
   "source": [
    "def convert_date(string):\n",
    "    \n",
    "    \"\"\"Función para el cambio de formato de las fechas\"\"\"\n",
    "    \n",
    "    elements = string.split(\"/\")\n",
    "    result = \"/\".join([str(elements[2]), str(elements[1]), \"20\"])\n",
    "    correct_date = datetime.strptime(result, \"%d/%m/%y\")\n",
    "    return correct_date"
   ]
  },
  {
   "cell_type": "code",
   "execution_count": 10,
   "metadata": {},
   "outputs": [],
   "source": [
    "ingresos[\"Fecha\"] = ingresos[\"Fecha\"].apply(lambda x: convert_date(x))"
   ]
  },
  {
   "cell_type": "markdown",
   "metadata": {},
   "source": [
    "2.5.- Conversión de las cifras a enteros"
   ]
  },
  {
   "cell_type": "code",
   "execution_count": 12,
   "metadata": {},
   "outputs": [],
   "source": [
    "ingresos_fechas = ingresos[\"Fecha\"]"
   ]
  },
  {
   "cell_type": "code",
   "execution_count": 13,
   "metadata": {},
   "outputs": [],
   "source": [
    "ingresos = ingresos[columnas[1:]].astype(int)"
   ]
  },
  {
   "cell_type": "code",
   "execution_count": 14,
   "metadata": {},
   "outputs": [],
   "source": [
    "ingresos = pd.concat([ingresos_fechas, ingresos], axis=1)"
   ]
  },
  {
   "cell_type": "markdown",
   "metadata": {},
   "source": [
    "### 3.- Obtención datos"
   ]
  },
  {
   "cell_type": "markdown",
   "metadata": {},
   "source": [
    "Ingresos totales al día en planta en los hospitales de Euskadi."
   ]
  },
  {
   "cell_type": "code",
   "execution_count": 16,
   "metadata": {},
   "outputs": [],
   "source": [
    "ingresos_euskadi_dia = ingresos.iloc[-1][\"Ingresos planta\"]"
   ]
  },
  {
   "cell_type": "code",
   "execution_count": 17,
   "metadata": {},
   "outputs": [
    {
     "name": "stdout",
     "output_type": "stream",
     "text": [
      "80\n"
     ]
    }
   ],
   "source": [
    "print(ingresos_euskadi_dia)"
   ]
  },
  {
   "cell_type": "markdown",
   "metadata": {},
   "source": [
    "Ingresos totales al día en planta en los hospitales de Araba."
   ]
  },
  {
   "cell_type": "code",
   "execution_count": 18,
   "metadata": {},
   "outputs": [
    {
     "data": {
      "text/plain": [
       "Index(['Fecha', 'Ingresos planta', 'Araba', 'Cruces', 'Donosti', 'Basurto',\n",
       "       'Galdakao', 'Zumarraga', 'Bidasoa', 'Mendaro', 'Alto Deba', 'San Eloy',\n",
       "       'Urduliz', 'Eibar', 'Leza', 'Sta Marina', 'Gorliz', 'Bermeo', 'Zamudio',\n",
       "       'Psiquiátrico Álava'],\n",
       "      dtype='object')"
      ]
     },
     "execution_count": 18,
     "metadata": {},
     "output_type": "execute_result"
    }
   ],
   "source": [
    "ingresos.columns"
   ]
  },
  {
   "cell_type": "code",
   "execution_count": 19,
   "metadata": {},
   "outputs": [],
   "source": [
    "ingresos_araba = ingresos[[\"Araba\", \"Leza\", \"Psiquiátrico Álava\"]]"
   ]
  },
  {
   "cell_type": "code",
   "execution_count": 20,
   "metadata": {},
   "outputs": [],
   "source": [
    "ingresos_araba_dia = ingresos_araba.iloc[[-1]].sum(axis=1)"
   ]
  },
  {
   "cell_type": "code",
   "execution_count": 21,
   "metadata": {},
   "outputs": [],
   "source": [
    "ingresos_araba_dia = ingresos_araba_dia.iloc[0]"
   ]
  },
  {
   "cell_type": "code",
   "execution_count": 22,
   "metadata": {},
   "outputs": [
    {
     "name": "stdout",
     "output_type": "stream",
     "text": [
      "7\n"
     ]
    }
   ],
   "source": [
    "print(ingresos_araba_dia)"
   ]
  },
  {
   "cell_type": "markdown",
   "metadata": {},
   "source": [
    "Ingresos totales al día en planta en los hospitales de Bizkaia."
   ]
  },
  {
   "cell_type": "code",
   "execution_count": 23,
   "metadata": {},
   "outputs": [],
   "source": [
    "ingresos_bizkaia = ingresos[[\"Cruces\", \"Basurto\", \"Galdakao\", \"San Eloy\", \"Urduliz\", \"Sta Marina\", \"Gorliz\", \"Bermeo\", \"Zamudio\"]]"
   ]
  },
  {
   "cell_type": "code",
   "execution_count": 24,
   "metadata": {},
   "outputs": [],
   "source": [
    "ingresos_bizkaia_dia = ingresos_bizkaia.iloc[[-1]].sum(axis=1)"
   ]
  },
  {
   "cell_type": "code",
   "execution_count": 25,
   "metadata": {},
   "outputs": [],
   "source": [
    "ingresos_bizkaia_dia = ingresos_bizkaia_dia.iloc[0]"
   ]
  },
  {
   "cell_type": "code",
   "execution_count": 26,
   "metadata": {},
   "outputs": [
    {
     "name": "stdout",
     "output_type": "stream",
     "text": [
      "41\n"
     ]
    }
   ],
   "source": [
    "print(ingresos_bizkaia_dia)"
   ]
  },
  {
   "cell_type": "markdown",
   "metadata": {},
   "source": [
    "Ingresos totales al día en planta en los hospitales de Gipuzkoa."
   ]
  },
  {
   "cell_type": "code",
   "execution_count": 27,
   "metadata": {},
   "outputs": [],
   "source": [
    "ingresos_gipuzkoa = ingresos[[\"Donosti\", \"Zumarraga\", \"Bidasoa\", \"Mendaro\", \"Alto Deba\", \"Eibar\"]]"
   ]
  },
  {
   "cell_type": "code",
   "execution_count": 28,
   "metadata": {},
   "outputs": [],
   "source": [
    "ingresos_gipuzkoa_dia = ingresos_gipuzkoa.iloc[[-1]].sum(axis=1)"
   ]
  },
  {
   "cell_type": "code",
   "execution_count": 29,
   "metadata": {},
   "outputs": [],
   "source": [
    "ingresos_gipuzkoa_dia = ingresos_gipuzkoa_dia.iloc[0]"
   ]
  },
  {
   "cell_type": "code",
   "execution_count": 30,
   "metadata": {},
   "outputs": [
    {
     "name": "stdout",
     "output_type": "stream",
     "text": [
      "32\n"
     ]
    }
   ],
   "source": [
    "print(ingresos_gipuzkoa_dia)"
   ]
  },
  {
   "cell_type": "markdown",
   "metadata": {},
   "source": [
    "Evolución ingresos en planta en la segunda ola. Tomo como referencia el fin del primer estado de alarma, a finales de junio, por lo que utilizo los datos a partir del 1 de julio y hasta la actualidad."
   ]
  },
  {
   "cell_type": "code",
   "execution_count": 39,
   "metadata": {},
   "outputs": [],
   "source": [
    "segunda = ingresos[61:]"
   ]
  },
  {
   "cell_type": "code",
   "execution_count": 40,
   "metadata": {},
   "outputs": [],
   "source": [
    "segunda = segunda[[\"Fecha\", \"Ingresos planta\"]]"
   ]
  },
  {
   "cell_type": "code",
   "execution_count": 41,
   "metadata": {},
   "outputs": [],
   "source": [
    "segunda.reset_index(drop=True, inplace=True)"
   ]
  },
  {
   "cell_type": "markdown",
   "metadata": {},
   "source": [
    "### 4.- Exportación datos"
   ]
  },
  {
   "cell_type": "markdown",
   "metadata": {},
   "source": [
    "Exportación de los datos que el Bot va a incluir en los mensajes que intercambiará con el usuario."
   ]
  },
  {
   "cell_type": "code",
   "execution_count": 34,
   "metadata": {},
   "outputs": [],
   "source": [
    "datos_planta = open(\"../mensajes/planta.pickle\", \"wb\")"
   ]
  },
  {
   "cell_type": "code",
   "execution_count": 35,
   "metadata": {},
   "outputs": [],
   "source": [
    "pickle.dump(ingresos_euskadi_dia, datos_planta)\n",
    "pickle.dump(ingresos_araba_dia, datos_planta)\n",
    "pickle.dump(ingresos_bizkaia_dia, datos_planta)\n",
    "pickle.dump(ingresos_gipuzkoa_dia, datos_planta)"
   ]
  },
  {
   "cell_type": "code",
   "execution_count": 36,
   "metadata": {},
   "outputs": [],
   "source": [
    "datos_planta.close()"
   ]
  },
  {
   "cell_type": "markdown",
   "metadata": {},
   "source": [
    "Exportación de un nuevo csv para hacer una visualización sobre la evolución de los fallecidos en la segunda ola"
   ]
  },
  {
   "cell_type": "code",
   "execution_count": 43,
   "metadata": {},
   "outputs": [],
   "source": [
    "segunda.to_csv(\"../graficos/ingresos.csv\")"
   ]
  }
 ],
 "metadata": {
  "kernelspec": {
   "display_name": "Python 3",
   "language": "python",
   "name": "python3"
  },
  "language_info": {
   "codemirror_mode": {
    "name": "ipython",
    "version": 3
   },
   "file_extension": ".py",
   "mimetype": "text/x-python",
   "name": "python",
   "nbconvert_exporter": "python",
   "pygments_lexer": "ipython3",
   "version": "3.8.6"
  }
 },
 "nbformat": 4,
 "nbformat_minor": 4
}
